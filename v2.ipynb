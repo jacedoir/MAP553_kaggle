{
 "cells": [
  {
   "cell_type": "markdown",
   "metadata": {},
   "source": [
    "# MAP553 Kaggle challenge - Forest cover type\n",
    "\n",
    "---\n",
    "author : Rémi Grzeczkowicz\n",
    "mail : [remi.grzeczkowicz@polytechnique.edu]{mailto:remi.grzeczkowicz@polytechnique.edu}\n",
    "---"
   ]
  },
  {
   "cell_type": "code",
   "execution_count": null,
   "metadata": {},
   "outputs": [],
   "source": []
  }
 ],
 "metadata": {
  "language_info": {
   "name": "python"
  }
 },
 "nbformat": 4,
 "nbformat_minor": 2
}
