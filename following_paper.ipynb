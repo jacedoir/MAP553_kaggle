{
 "cells": [
  {
   "cell_type": "code",
   "execution_count": 1,
   "metadata": {},
   "outputs": [],
   "source": [
    "##Import area\n",
    "import pandas as pd\n",
    "import matplotlib.pyplot as plt\n",
    "from sklearn.decomposition import PCA\n",
    "import numpy as np\n",
    "from sklearn.feature_selection import SelectKBest\n",
    "from sklearn.feature_selection import chi2\n",
    "\n"
   ]
  },
  {
   "cell_type": "code",
   "execution_count": 2,
   "metadata": {},
   "outputs": [],
   "source": [
    "def generating_submission_csv(prediction, name=\"\"):\n",
    "    data = {'Id': [k+1 for k in range(len(prediction))], 'Cover_type': prediction}\n",
    "\n",
    "    # Créez un DataFrame Pandas à partir du dictionnaire\n",
    "    predictions_df = pd.DataFrame(data)\n",
    "\n",
    "    # Enregistrez le DataFrame dans un fichier CSV\n",
    "    predictions_df.to_csv('predictions_'+name+'.csv', index=False)"
   ]
  },
  {
   "cell_type": "code",
   "execution_count": 3,
   "metadata": {},
   "outputs": [
    {
     "name": "stdout",
     "output_type": "stream",
     "text": [
      "   Elevation  Aspect  Slope  Horizontal_Distance_To_Hydrology  \\\n",
      "0       2881     130     22                               210   \n",
      "1       3005     351     14                               242   \n",
      "2       3226      63     14                               618   \n",
      "3       3298     317      8                               661   \n",
      "4       3080      35      6                               175   \n",
      "\n",
      "   Vertical_Distance_To_Hydrology  Horizontal_Distance_To_Roadways  \\\n",
      "0                              54                             1020   \n",
      "1                             -16                             1371   \n",
      "2                               2                             1092   \n",
      "3                              60                              752   \n",
      "4                              26                             3705   \n",
      "\n",
      "   Hillshade_9am  Hillshade_Noon  Hillshade_3pm  \\\n",
      "0            250             221             88   \n",
      "1            194             215            159   \n",
      "2            232             210            107   \n",
      "3            198             233            174   \n",
      "4            219             227            144   \n",
      "\n",
      "   Horizontal_Distance_To_Fire_Points  ...  Soil_Type31  Soil_Type32  \\\n",
      "0                                 342  ...            0            0   \n",
      "1                                 842  ...            0            0   \n",
      "2                                2018  ...            0            0   \n",
      "3                                1248  ...            0            0   \n",
      "4                                2673  ...            0            0   \n",
      "\n",
      "   Soil_Type33  Soil_Type34  Soil_Type35  Soil_Type36  Soil_Type37  \\\n",
      "0            0            0            0            0            0   \n",
      "1            0            0            0            0            0   \n",
      "2            0            0            0            0            0   \n",
      "3            0            0            0            0            0   \n",
      "4            0            0            0            0            0   \n",
      "\n",
      "   Soil_Type38  Soil_Type39  Soil_Type40  \n",
      "0            0            0            0  \n",
      "1            0            0            0  \n",
      "2            0            0            0  \n",
      "3            0            0            0  \n",
      "4            0            0            0  \n",
      "\n",
      "[5 rows x 54 columns]\n"
     ]
    }
   ],
   "source": [
    "# Charger les données depuis un fichier CSV\n",
    "data = pd.read_csv('data/train.csv')\n",
    "id = data['Id']\n",
    "data = data.drop('Id', axis=1)\n",
    "cover_type = data['Cover_Type']\n",
    "data = data.drop('Cover_Type', axis=1)\n",
    "\n",
    "print(data.head())"
   ]
  },
  {
   "cell_type": "code",
   "execution_count": 4,
   "metadata": {},
   "outputs": [
    {
     "data": {
      "image/png": "[encoded data removed]",
      "text/plain": [
       "<Figure size 640x480 with 1 Axes>"
      ]
     },
     "metadata": {},
     "output_type": "display_data"
    }
   ],
   "source": [
    "cover_type.value_counts().plot(kind='bar', color=['red', 'blue', 'green', 'yellow', 'orange', 'purple', 'brown'])\n",
    "plt.ylabel('Number of instances')\n",
    "plt.xlabel('Cover type')\n",
    "plt.title('Cover type counts')\n",
    "plt.show()"
   ]
  },
  {
   "cell_type": "markdown",
   "metadata": {},
   "source": [
    "Columns with numerical data are Elevation,Aspect,Slope,Horizontal_Distance_To_Hydrology,Vertical_Distance_To_Hydrology,Horizontal_Distance_To_Roadways,Hillshade_9am,Hillshade_Noon,Hillshade_3pm,Horizontal_Distance_To_Fire_Points"
   ]
  },
  {
   "cell_type": "code",
   "execution_count": 5,
   "metadata": {},
   "outputs": [
    {
     "name": "stdout",
     "output_type": "stream",
     "text": [
      "   Elevation    Aspect  Slope  Horizontal_Distance_To_Hydrology  \\\n",
      "0   0.508870  0.361111   0.44                          0.152616   \n",
      "1   0.571718  0.975000   0.28                          0.175872   \n",
      "2   0.683730  0.175000   0.28                          0.449128   \n",
      "3   0.720223  0.880556   0.16                          0.480378   \n",
      "4   0.609731  0.097222   0.12                          0.127180   \n",
      "\n",
      "   Vertical_Distance_To_Hydrology  Horizontal_Distance_To_Roadways  \\\n",
      "0                        0.268085                         0.149934   \n",
      "1                        0.168794                         0.201529   \n",
      "2                        0.194326                         0.160517   \n",
      "3                        0.276596                         0.110539   \n",
      "4                        0.228369                         0.544613   \n",
      "\n",
      "   Hillshade_9am  Hillshade_Noon  Hillshade_3pm  \\\n",
      "0       0.980198        0.787097       0.350598   \n",
      "1       0.702970        0.748387       0.633466   \n",
      "2       0.891089        0.716129       0.426295   \n",
      "3       0.722772        0.864516       0.693227   \n",
      "4       0.826733        0.825806       0.573705   \n",
      "\n",
      "   Horizontal_Distance_To_Fire_Points  ...  Soil_Type31  Soil_Type32  \\\n",
      "0                            0.048203  ...            0            0   \n",
      "1                            0.118675  ...            0            0   \n",
      "2                            0.284426  ...            0            0   \n",
      "3                            0.175899  ...            0            0   \n",
      "4                            0.376744  ...            0            0   \n",
      "\n",
      "   Soil_Type33  Soil_Type34  Soil_Type35  Soil_Type36  Soil_Type37  \\\n",
      "0            0            0            0            0            0   \n",
      "1            0            0            0            0            0   \n",
      "2            0            0            0            0            0   \n",
      "3            0            0            0            0            0   \n",
      "4            0            0            0            0            0   \n",
      "\n",
      "   Soil_Type38  Soil_Type39  Soil_Type40  \n",
      "0            0            0            0  \n",
      "1            0            0            0  \n",
      "2            0            0            0  \n",
      "3            0            0            0  \n",
      "4            0            0            0  \n",
      "\n",
      "[5 rows x 54 columns]\n"
     ]
    }
   ],
   "source": [
    "raw_col = ['Elevation', 'Aspect', 'Slope', 'Horizontal_Distance_To_Hydrology', 'Vertical_Distance_To_Hydrology', 'Horizontal_Distance_To_Roadways', 'Hillshade_9am', 'Hillshade_Noon', 'Hillshade_3pm', 'Horizontal_Distance_To_Fire_Points']\n",
    "##Normalisation between 0 and 1\n",
    "for col in raw_col:\n",
    "    data[col] = (data[col] - data[col].min()) / (data[col].max() - data[col].min())\n",
    "\n",
    "print(data.head())\n"
   ]
  },
  {
   "cell_type": "code",
   "execution_count": 29,
   "metadata": {},
   "outputs": [
    {
     "name": "stdout",
     "output_type": "stream",
     "text": [
      "Selected 25 features :\n",
      "Index(['Elevation', 'Horizontal_Distance_To_Roadways', 'Wilderness_Area1',\n",
      "       'Wilderness_Area2', 'Wilderness_Area3', 'Wilderness_Area4',\n",
      "       'Soil_Type1', 'Soil_Type2', 'Soil_Type3', 'Soil_Type4', 'Soil_Type6',\n",
      "       'Soil_Type10', 'Soil_Type12', 'Soil_Type13', 'Soil_Type14',\n",
      "       'Soil_Type17', 'Soil_Type22', 'Soil_Type23', 'Soil_Type29',\n",
      "       'Soil_Type30', 'Soil_Type32', 'Soil_Type35', 'Soil_Type38',\n",
      "       'Soil_Type39', 'Soil_Type40'],\n",
      "      dtype='object')\n"
     ]
    }
   ],
   "source": [
    "k = 25\n",
    "selector = SelectKBest(chi2, k=k)\n",
    "z = selector.fit_transform(data, cover_type)\n",
    "filter = selector.get_support()\n",
    "\n",
    "print(\"Selected \"+str(k)+\" features :\")\n",
    "print(data.columns[filter])"
   ]
  },
  {
   "cell_type": "code",
   "execution_count": 9,
   "metadata": {},
   "outputs": [
    {
     "name": "stderr",
     "output_type": "stream",
     "text": [
      "  0%|          | 2/2240 [00:00<05:45,  6.48it/s]"
     ]
    },
    {
     "name": "stdout",
     "output_type": "stream",
     "text": [
      "New best params with accuracy  = 0.47255291005291006:\n",
      "{'k_f': 15, 'accuracy': 0.47255291005291006, 'n_e': 50, 'm_d': 1}\n",
      "New best params with accuracy  = 0.593584656084656:\n",
      "{'k_f': 15, 'accuracy': 0.593584656084656, 'n_e': 50, 'm_d': 2}\n"
     ]
    },
    {
     "name": "stderr",
     "output_type": "stream",
     "text": [
      "  0%|          | 3/2240 [00:00<06:10,  6.03it/s]"
     ]
    },
    {
     "name": "stdout",
     "output_type": "stream",
     "text": [
      "New best params with accuracy  = 0.6084656084656085:\n",
      "{'k_f': 15, 'accuracy': 0.6084656084656085, 'n_e': 50, 'm_d': 3}\n"
     ]
    },
    {
     "name": "stderr",
     "output_type": "stream",
     "text": [
      "  0%|          | 5/2240 [00:00<07:16,  5.12it/s]"
     ]
    },
    {
     "name": "stdout",
     "output_type": "stream",
     "text": [
      "New best params with accuracy  = 0.6451719576719577:\n",
      "{'k_f': 15, 'accuracy': 0.6451719576719577, 'n_e': 50, 'm_d': 4}\n",
      "New best params with accuracy  = 0.6587301587301587:\n",
      "{'k_f': 15, 'accuracy': 0.6587301587301587, 'n_e': 50, 'm_d': 5}\n"
     ]
    },
    {
     "name": "stderr",
     "output_type": "stream",
     "text": [
      "  0%|          | 6/2240 [00:01<07:44,  4.81it/s]"
     ]
    },
    {
     "name": "stdout",
     "output_type": "stream",
     "text": [
      "New best params with accuracy  = 0.6689814814814815:\n",
      "{'k_f': 15, 'accuracy': 0.6689814814814815, 'n_e': 50, 'm_d': 6}\n"
     ]
    },
    {
     "name": "stderr",
     "output_type": "stream",
     "text": [
      "  0%|          | 7/2240 [00:01<08:19,  4.47it/s]"
     ]
    },
    {
     "name": "stdout",
     "output_type": "stream",
     "text": [
      "New best params with accuracy  = 0.6729497354497355:\n",
      "{'k_f': 15, 'accuracy': 0.6729497354497355, 'n_e': 50, 'm_d': 7}\n"
     ]
    },
    {
     "name": "stderr",
     "output_type": "stream",
     "text": [
      "  0%|          | 8/2240 [00:01<09:21,  3.97it/s]"
     ]
    },
    {
     "name": "stdout",
     "output_type": "stream",
     "text": [
      "New best params with accuracy  = 0.6792328042328042:\n",
      "{'k_f': 15, 'accuracy': 0.6792328042328042, 'n_e': 50, 'm_d': 8}\n"
     ]
    },
    {
     "name": "stderr",
     "output_type": "stream",
     "text": [
      "  0%|          | 9/2240 [00:02<10:04,  3.69it/s]"
     ]
    },
    {
     "name": "stdout",
     "output_type": "stream",
     "text": [
      "New best params with accuracy  = 0.6795634920634921:\n",
      "{'k_f': 15, 'accuracy': 0.6795634920634921, 'n_e': 50, 'm_d': 9}\n"
     ]
    },
    {
     "name": "stderr",
     "output_type": "stream",
     "text": [
      "  0%|          | 10/2240 [00:02<10:48,  3.44it/s]"
     ]
    },
    {
     "name": "stdout",
     "output_type": "stream",
     "text": [
      "New best params with accuracy  = 0.6815476190476191:\n",
      "{'k_f': 15, 'accuracy': 0.6815476190476191, 'n_e': 50, 'm_d': 10}\n"
     ]
    },
    {
     "name": "stderr",
     "output_type": "stream",
     "text": [
      "  1%|          | 24/2240 [00:07<15:29,  2.38it/s]"
     ]
    },
    {
     "name": "stdout",
     "output_type": "stream",
     "text": [
      "New best params with accuracy  = 0.6828703703703703:\n",
      "{'k_f': 15, 'accuracy': 0.6828703703703703, 'n_e': 100, 'm_d': 10}\n"
     ]
    },
    {
     "name": "stderr",
     "output_type": "stream",
     "text": [
      "  6%|▌         | 135/2240 [01:09<15:16,  2.30it/s]"
     ]
    },
    {
     "name": "stdout",
     "output_type": "stream",
     "text": [
      "New best params with accuracy  = 0.6851851851851852:\n",
      "{'k_f': 17, 'accuracy': 0.6851851851851852, 'n_e': 100, 'm_d': 9}\n"
     ]
    },
    {
     "name": "stderr",
     "output_type": "stream",
     "text": [
      "  8%|▊         | 176/2240 [01:36<09:55,  3.47it/s]"
     ]
    },
    {
     "name": "stdout",
     "output_type": "stream",
     "text": [
      "New best params with accuracy  = 0.6878306878306878:\n",
      "{'k_f': 18, 'accuracy': 0.6878306878306878, 'n_e': 50, 'm_d': 8}\n"
     ]
    },
    {
     "name": "stderr",
     "output_type": "stream",
     "text": [
      "  9%|▉         | 205/2240 [01:49<18:46,  1.81it/s]"
     ]
    },
    {
     "name": "stdout",
     "output_type": "stream",
     "text": [
      "New best params with accuracy  = 0.6888227513227513:\n",
      "{'k_f': 18, 'accuracy': 0.6888227513227513, 'n_e': 150, 'm_d': 9}\n"
     ]
    },
    {
     "name": "stderr",
     "output_type": "stream",
     "text": [
      " 10%|▉         | 219/2240 [01:59<24:44,  1.36it/s]"
     ]
    },
    {
     "name": "stdout",
     "output_type": "stream",
     "text": [
      "New best params with accuracy  = 0.6904761904761905:\n",
      "{'k_f': 18, 'accuracy': 0.6904761904761905, 'n_e': 200, 'm_d': 9}\n"
     ]
    },
    {
     "name": "stderr",
     "output_type": "stream",
     "text": [
      " 11%|█         | 248/2240 [02:13<14:21,  2.31it/s]"
     ]
    },
    {
     "name": "stdout",
     "output_type": "stream",
     "text": [
      "New best params with accuracy  = 0.6908068783068783:\n",
      "{'k_f': 19, 'accuracy': 0.6908068783068783, 'n_e': 100, 'm_d': 10}\n"
     ]
    },
    {
     "name": "stderr",
     "output_type": "stream",
     "text": [
      " 13%|█▎        | 289/2240 [02:39<09:05,  3.58it/s]"
     ]
    },
    {
     "name": "stdout",
     "output_type": "stream",
     "text": [
      "New best params with accuracy  = 0.6954365079365079:\n",
      "{'k_f': 20, 'accuracy': 0.6954365079365079, 'n_e': 50, 'm_d': 9}\n"
     ]
    },
    {
     "name": "stderr",
     "output_type": "stream",
     "text": [
      " 14%|█▎        | 303/2240 [02:44<12:45,  2.53it/s]"
     ]
    },
    {
     "name": "stdout",
     "output_type": "stream",
     "text": [
      "New best params with accuracy  = 0.7000661375661376:\n",
      "{'k_f': 20, 'accuracy': 0.7000661375661376, 'n_e': 100, 'm_d': 9}\n"
     ]
    },
    {
     "name": "stderr",
     "output_type": "stream",
     "text": [
      " 15%|█▌        | 343/2240 [03:10<10:07,  3.12it/s]"
     ]
    },
    {
     "name": "stdout",
     "output_type": "stream",
     "text": [
      "New best params with accuracy  = 0.7136243386243386:\n",
      "{'k_f': 21, 'accuracy': 0.7136243386243386, 'n_e': 50, 'm_d': 7}\n"
     ]
    },
    {
     "name": "stderr",
     "output_type": "stream",
     "text": [
      " 15%|█▌        | 344/2240 [03:10<10:01,  3.15it/s]"
     ]
    },
    {
     "name": "stdout",
     "output_type": "stream",
     "text": [
      "New best params with accuracy  = 0.7195767195767195:\n",
      "{'k_f': 21, 'accuracy': 0.7195767195767195, 'n_e': 50, 'm_d': 8}\n"
     ]
    },
    {
     "name": "stderr",
     "output_type": "stream",
     "text": [
      " 15%|█▌        | 345/2240 [03:11<10:07,  3.12it/s]"
     ]
    },
    {
     "name": "stdout",
     "output_type": "stream",
     "text": [
      "New best params with accuracy  = 0.7407407407407407:\n",
      "{'k_f': 21, 'accuracy': 0.7407407407407407, 'n_e': 50, 'm_d': 9}\n"
     ]
    },
    {
     "name": "stderr",
     "output_type": "stream",
     "text": [
      " 15%|█▌        | 346/2240 [03:11<10:21,  3.05it/s]"
     ]
    },
    {
     "name": "stdout",
     "output_type": "stream",
     "text": [
      "New best params with accuracy  = 0.7490079365079365:\n",
      "{'k_f': 21, 'accuracy': 0.7490079365079365, 'n_e': 50, 'm_d': 10}\n"
     ]
    },
    {
     "name": "stderr",
     "output_type": "stream",
     "text": [
      " 15%|█▌        | 347/2240 [03:11<11:37,  2.71it/s]"
     ]
    },
    {
     "name": "stdout",
     "output_type": "stream",
     "text": [
      "New best params with accuracy  = 0.7711640211640212:\n",
      "{'k_f': 21, 'accuracy': 0.7711640211640212, 'n_e': 50, 'm_d': 15}\n"
     ]
    },
    {
     "name": "stderr",
     "output_type": "stream",
     "text": [
      " 16%|█▌        | 348/2240 [03:12<12:25,  2.54it/s]"
     ]
    },
    {
     "name": "stdout",
     "output_type": "stream",
     "text": [
      "New best params with accuracy  = 0.7728174603174603:\n",
      "{'k_f': 21, 'accuracy': 0.7728174603174603, 'n_e': 50, 'm_d': 20}\n"
     ]
    },
    {
     "name": "stderr",
     "output_type": "stream",
     "text": [
      " 16%|█▌        | 361/2240 [03:18<18:00,  1.74it/s]"
     ]
    },
    {
     "name": "stdout",
     "output_type": "stream",
     "text": [
      "New best params with accuracy  = 0.7757936507936508:\n",
      "{'k_f': 21, 'accuracy': 0.7757936507936508, 'n_e': 100, 'm_d': 15}\n"
     ]
    },
    {
     "name": "stderr",
     "output_type": "stream",
     "text": [
      " 17%|█▋        | 375/2240 [03:27<25:17,  1.23it/s]"
     ]
    },
    {
     "name": "stdout",
     "output_type": "stream",
     "text": [
      "New best params with accuracy  = 0.7761243386243386:\n",
      "{'k_f': 21, 'accuracy': 0.7761243386243386, 'n_e': 150, 'm_d': 15}\n"
     ]
    },
    {
     "name": "stderr",
     "output_type": "stream",
     "text": [
      " 21%|██        | 473/2240 [04:27<15:41,  1.88it/s]"
     ]
    },
    {
     "name": "stdout",
     "output_type": "stream",
     "text": [
      "New best params with accuracy  = 0.7771164021164021:\n",
      "{'k_f': 23, 'accuracy': 0.7771164021164021, 'n_e': 100, 'm_d': 15}\n"
     ]
    },
    {
     "name": "stderr",
     "output_type": "stream",
     "text": [
      " 21%|██        | 474/2240 [04:28<17:55,  1.64it/s]"
     ]
    },
    {
     "name": "stdout",
     "output_type": "stream",
     "text": [
      "New best params with accuracy  = 0.7781084656084656:\n",
      "{'k_f': 23, 'accuracy': 0.7781084656084656, 'n_e': 100, 'm_d': 20}\n"
     ]
    },
    {
     "name": "stderr",
     "output_type": "stream",
     "text": [
      " 24%|██▎       | 530/2240 [05:02<17:53,  1.59it/s]"
     ]
    },
    {
     "name": "stdout",
     "output_type": "stream",
     "text": [
      "New best params with accuracy  = 0.779431216931217:\n",
      "{'k_f': 24, 'accuracy': 0.779431216931217, 'n_e': 100, 'm_d': 20}\n"
     ]
    },
    {
     "name": "stderr",
     "output_type": "stream",
     "text": [
      " 25%|██▌       | 571/2240 [05:29<09:29,  2.93it/s]"
     ]
    },
    {
     "name": "stdout",
     "output_type": "stream",
     "text": [
      "New best params with accuracy  = 0.781084656084656:\n",
      "{'k_f': 25, 'accuracy': 0.781084656084656, 'n_e': 50, 'm_d': 15}\n"
     ]
    },
    {
     "name": "stderr",
     "output_type": "stream",
     "text": [
      " 26%|██▌       | 586/2240 [05:37<17:36,  1.57it/s]"
     ]
    },
    {
     "name": "stdout",
     "output_type": "stream",
     "text": [
      "New best params with accuracy  = 0.7840608465608465:\n",
      "{'k_f': 25, 'accuracy': 0.7840608465608465, 'n_e': 100, 'm_d': 20}\n"
     ]
    },
    {
     "name": "stderr",
     "output_type": "stream",
     "text": [
      " 27%|██▋       | 600/2240 [05:46<25:12,  1.08it/s]"
     ]
    },
    {
     "name": "stdout",
     "output_type": "stream",
     "text": [
      "New best params with accuracy  = 0.7843915343915344:\n",
      "{'k_f': 25, 'accuracy': 0.7843915343915344, 'n_e': 150, 'm_d': 20}\n"
     ]
    },
    {
     "name": "stderr",
     "output_type": "stream",
     "text": [
      " 29%|██▊       | 642/2240 [06:12<18:31,  1.44it/s]"
     ]
    },
    {
     "name": "stdout",
     "output_type": "stream",
     "text": [
      "New best params with accuracy  = 0.7857142857142857:\n",
      "{'k_f': 26, 'accuracy': 0.7857142857142857, 'n_e': 100, 'm_d': 20}\n"
     ]
    },
    {
     "name": "stderr",
     "output_type": "stream",
     "text": [
      " 29%|██▉       | 656/2240 [06:22<24:25,  1.08it/s]"
     ]
    },
    {
     "name": "stdout",
     "output_type": "stream",
     "text": [
      "New best params with accuracy  = 0.7870370370370371:\n",
      "{'k_f': 26, 'accuracy': 0.7870370370370371, 'n_e': 150, 'm_d': 20}\n"
     ]
    },
    {
     "name": "stderr",
     "output_type": "stream",
     "text": [
      " 30%|███       | 683/2240 [06:41<10:50,  2.39it/s]"
     ]
    },
    {
     "name": "stdout",
     "output_type": "stream",
     "text": [
      "New best params with accuracy  = 0.8181216931216931:\n",
      "{'k_f': 27, 'accuracy': 0.8181216931216931, 'n_e': 50, 'm_d': 15}\n"
     ]
    },
    {
     "name": "stderr",
     "output_type": "stream",
     "text": [
      " 31%|███       | 684/2240 [06:42<11:34,  2.24it/s]"
     ]
    },
    {
     "name": "stdout",
     "output_type": "stream",
     "text": [
      "New best params with accuracy  = 0.8323412698412699:\n",
      "{'k_f': 27, 'accuracy': 0.8323412698412699, 'n_e': 50, 'm_d': 20}\n"
     ]
    },
    {
     "name": "stderr",
     "output_type": "stream",
     "text": [
      " 31%|███       | 686/2240 [06:43<12:46,  2.03it/s]"
     ]
    },
    {
     "name": "stdout",
     "output_type": "stream",
     "text": [
      "New best params with accuracy  = 0.8343253968253969:\n",
      "{'k_f': 27, 'accuracy': 0.8343253968253969, 'n_e': 50, 'm_d': 30}\n"
     ]
    },
    {
     "name": "stderr",
     "output_type": "stream",
     "text": [
      " 31%|███▏      | 700/2240 [06:51<20:59,  1.22it/s]"
     ]
    },
    {
     "name": "stdout",
     "output_type": "stream",
     "text": [
      "New best params with accuracy  = 0.8353174603174603:\n",
      "{'k_f': 27, 'accuracy': 0.8353174603174603, 'n_e': 100, 'm_d': 30}\n"
     ]
    },
    {
     "name": "stderr",
     "output_type": "stream",
     "text": [
      " 33%|███▎      | 741/2240 [07:23<11:25,  2.19it/s]"
     ]
    },
    {
     "name": "stdout",
     "output_type": "stream",
     "text": [
      "New best params with accuracy  = 0.8376322751322751:\n",
      "{'k_f': 28, 'accuracy': 0.8376322751322751, 'n_e': 50, 'm_d': 25}\n"
     ]
    },
    {
     "name": "stderr",
     "output_type": "stream",
     "text": [
      " 38%|███▊      | 851/2240 [08:40<09:17,  2.49it/s]"
     ]
    },
    {
     "name": "stdout",
     "output_type": "stream",
     "text": [
      "New best params with accuracy  = 0.8449074074074074:\n",
      "{'k_f': 30, 'accuracy': 0.8449074074074074, 'n_e': 50, 'm_d': 15}\n"
     ]
    },
    {
     "name": "stderr",
     "output_type": "stream",
     "text": [
      " 38%|███▊      | 852/2240 [08:40<10:10,  2.27it/s]"
     ]
    },
    {
     "name": "stdout",
     "output_type": "stream",
     "text": [
      "New best params with accuracy  = 0.8581349206349206:\n",
      "{'k_f': 30, 'accuracy': 0.8581349206349206, 'n_e': 50, 'm_d': 20}\n"
     ]
    },
    {
     "name": "stderr",
     "output_type": "stream",
     "text": [
      " 38%|███▊      | 853/2240 [08:41<10:57,  2.11it/s]"
     ]
    },
    {
     "name": "stdout",
     "output_type": "stream",
     "text": [
      "New best params with accuracy  = 0.8587962962962963:\n",
      "{'k_f': 30, 'accuracy': 0.8587962962962963, 'n_e': 50, 'm_d': 25}\n"
     ]
    },
    {
     "name": "stderr",
     "output_type": "stream",
     "text": [
      " 38%|███▊      | 854/2240 [08:41<11:25,  2.02it/s]"
     ]
    },
    {
     "name": "stdout",
     "output_type": "stream",
     "text": [
      "New best params with accuracy  = 0.8630952380952381:\n",
      "{'k_f': 30, 'accuracy': 0.8630952380952381, 'n_e': 50, 'm_d': 30}\n"
     ]
    },
    {
     "name": "stderr",
     "output_type": "stream",
     "text": [
      " 39%|███▉      | 868/2240 [08:50<19:16,  1.19it/s]"
     ]
    },
    {
     "name": "stdout",
     "output_type": "stream",
     "text": [
      "New best params with accuracy  = 0.8654100529100529:\n",
      "{'k_f': 30, 'accuracy': 0.8654100529100529, 'n_e': 100, 'm_d': 30}\n"
     ]
    },
    {
     "name": "stderr",
     "output_type": "stream",
     "text": [
      " 43%|████▎     | 953/2240 [09:57<24:54,  1.16s/it]"
     ]
    },
    {
     "name": "stdout",
     "output_type": "stream",
     "text": [
      "New best params with accuracy  = 0.8673941798941799:\n",
      "{'k_f': 31, 'accuracy': 0.8673941798941799, 'n_e': 200, 'm_d': 30}\n"
     ]
    },
    {
     "name": "stderr",
     "output_type": "stream",
     "text": [
      " 46%|████▋     | 1036/2240 [10:49<16:27,  1.22it/s]"
     ]
    },
    {
     "name": "stdout",
     "output_type": "stream",
     "text": [
      "New best params with accuracy  = 0.8687169312169312:\n",
      "{'k_f': 33, 'accuracy': 0.8687169312169312, 'n_e': 100, 'm_d': 30}\n"
     ]
    },
    {
     "name": "stderr",
     "output_type": "stream",
     "text": [
      " 58%|█████▊    | 1301/2240 [14:01<07:53,  1.98it/s]"
     ]
    },
    {
     "name": "stdout",
     "output_type": "stream",
     "text": [
      "New best params with accuracy  = 0.8697089947089947:\n",
      "{'k_f': 38, 'accuracy': 0.8697089947089947, 'n_e': 50, 'm_d': 25}\n"
     ]
    },
    {
     "name": "stderr",
     "output_type": "stream",
     "text": [
      " 62%|██████▏   | 1399/2240 [15:18<21:51,  1.56s/it]"
     ]
    },
    {
     "name": "stdout",
     "output_type": "stream",
     "text": [
      "New best params with accuracy  = 0.8700396825396826:\n",
      "{'k_f': 39, 'accuracy': 0.8700396825396826, 'n_e': 200, 'm_d': 25}\n"
     ]
    },
    {
     "name": "stderr",
     "output_type": "stream",
     "text": [
      " 63%|██████▎   | 1414/2240 [15:25<07:16,  1.89it/s]"
     ]
    },
    {
     "name": "stdout",
     "output_type": "stream",
     "text": [
      "New best params with accuracy  = 0.873015873015873:\n",
      "{'k_f': 40, 'accuracy': 0.873015873015873, 'n_e': 50, 'm_d': 30}\n"
     ]
    },
    {
     "name": "stderr",
     "output_type": "stream",
     "text": [
      " 64%|██████▍   | 1428/2240 [15:34<12:36,  1.07it/s]"
     ]
    },
    {
     "name": "stdout",
     "output_type": "stream",
     "text": [
      "New best params with accuracy  = 0.875:\n",
      "{'k_f': 40, 'accuracy': 0.875, 'n_e': 100, 'm_d': 30}\n"
     ]
    },
    {
     "name": "stderr",
     "output_type": "stream",
     "text": [
      "100%|██████████| 2240/2240 [27:20<00:00,  1.37it/s]\n"
     ]
    }
   ],
   "source": [
    "from sklearn.ensemble import RandomForestClassifier\n",
    "from sklearn.feature_selection import SelectKBest\n",
    "from sklearn.metrics import accuracy_score\n",
    "import itertools\n",
    "from sklearn.model_selection import train_test_split\n",
    "from tqdm import tqdm\n",
    "\n",
    "k_features = [k for k in range(15, 55)]\n",
    "n_estimators = [50,100,150,200]\n",
    "max_depth = [1,2,3,4,5,6,7,8,9,10,15,20,25,30]\n",
    "\n",
    "best_params = {'k_f': 0, 'accuracy': 0, 'n_e': 0, 'm_d': 0}\n",
    "\n",
    "cartesian_product = list(itertools.product(k_features, n_estimators, max_depth))\n",
    "\n",
    "\n",
    "for params in tqdm(cartesian_product):\n",
    "    k, n_e, m_d = params\n",
    "    selector = SelectKBest(chi2, k=k)\n",
    "    z = selector.fit_transform(data, cover_type)\n",
    "    data_filtered = data[data.columns[selector.get_support()]]\n",
    "\n",
    "    # Split the data into training/testing sets\n",
    "    X_train, X_test, y_train, y_test = train_test_split(data_filtered, cover_type, test_size=0.2, random_state=42)\n",
    "    clf = RandomForestClassifier(n_estimators=n_e, max_depth=m_d, random_state=0)\n",
    "    clf.fit(X_train, y_train)\n",
    "    y_pred = clf.predict(X_test)\n",
    "    accuracy = accuracy_score(y_test, y_pred)\n",
    "    if accuracy > best_params['accuracy']:\n",
    "        best_params['k_f'] = k\n",
    "        best_params['accuracy'] = accuracy\n",
    "        best_params['n_e'] = n_e\n",
    "        best_params['m_d'] = m_d\n",
    "        print(\"New best params with accuracy  = \"+ str(accuracy) +\":\")\n",
    "        print(best_params)\n"
   ]
  },
  {
   "cell_type": "markdown",
   "metadata": {},
   "source": [
    "it is boundary adding precision"
   ]
  },
  {
   "cell_type": "code",
   "execution_count": 12,
   "metadata": {},
   "outputs": [
    {
     "name": "stderr",
     "output_type": "stream",
     "text": [
      "  0%|          | 1/540 [00:00<06:53,  1.30it/s]"
     ]
    },
    {
     "name": "stdout",
     "output_type": "stream",
     "text": [
      "New best params with accuracy  = 0.8624338624338624:\n",
      "{'k_f': 35, 'accuracy': 0.8624338624338624, 'n_e': 76, 'm_d': 30}\n"
     ]
    },
    {
     "name": "stderr",
     "output_type": "stream",
     "text": [
      "  0%|          | 2/540 [00:01<06:47,  1.32it/s]"
     ]
    },
    {
     "name": "stdout",
     "output_type": "stream",
     "text": [
      "New best params with accuracy  = 0.8647486772486772:\n",
      "{'k_f': 35, 'accuracy': 0.8647486772486772, 'n_e': 76, 'm_d': 31}\n"
     ]
    },
    {
     "name": "stderr",
     "output_type": "stream",
     "text": [
      "  1%|          | 4/540 [00:03<06:46,  1.32it/s]"
     ]
    },
    {
     "name": "stdout",
     "output_type": "stream",
     "text": [
      "New best params with accuracy  = 0.8670634920634921:\n",
      "{'k_f': 35, 'accuracy': 0.8670634920634921, 'n_e': 76, 'm_d': 33}\n"
     ]
    },
    {
     "name": "stderr",
     "output_type": "stream",
     "text": [
      "  3%|▎         | 16/540 [00:11<06:37,  1.32it/s]"
     ]
    },
    {
     "name": "stdout",
     "output_type": "stream",
     "text": [
      "New best params with accuracy  = 0.8680555555555556:\n",
      "{'k_f': 35, 'accuracy': 0.8680555555555556, 'n_e': 78, 'm_d': 33}\n"
     ]
    },
    {
     "name": "stderr",
     "output_type": "stream",
     "text": [
      " 10%|█         | 56/540 [00:43<06:23,  1.26it/s]"
     ]
    },
    {
     "name": "stdout",
     "output_type": "stream",
     "text": [
      "New best params with accuracy  = 0.871031746031746:\n",
      "{'k_f': 36, 'accuracy': 0.871031746031746, 'n_e': 76, 'm_d': 31}\n"
     ]
    },
    {
     "name": "stderr",
     "output_type": "stream",
     "text": [
      " 11%|█         | 58/540 [00:44<06:21,  1.26it/s]"
     ]
    },
    {
     "name": "stdout",
     "output_type": "stream",
     "text": [
      "New best params with accuracy  = 0.8713624338624338:\n",
      "{'k_f': 36, 'accuracy': 0.8713624338624338, 'n_e': 76, 'm_d': 33}\n"
     ]
    },
    {
     "name": "stderr",
     "output_type": "stream",
     "text": [
      " 11%|█▏        | 62/540 [00:47<06:17,  1.27it/s]"
     ]
    },
    {
     "name": "stdout",
     "output_type": "stream",
     "text": [
      "New best params with accuracy  = 0.8716931216931217:\n",
      "{'k_f': 36, 'accuracy': 0.8716931216931217, 'n_e': 77, 'm_d': 31}\n"
     ]
    },
    {
     "name": "stderr",
     "output_type": "stream",
     "text": [
      " 50%|█████     | 271/540 [03:44<03:50,  1.17it/s]"
     ]
    },
    {
     "name": "stdout",
     "output_type": "stream",
     "text": [
      "New best params with accuracy  = 0.8723544973544973:\n",
      "{'k_f': 40, 'accuracy': 0.8723544973544973, 'n_e': 76, 'm_d': 30}\n"
     ]
    },
    {
     "name": "stderr",
     "output_type": "stream",
     "text": [
      " 50%|█████     | 272/540 [03:45<03:49,  1.17it/s]"
     ]
    },
    {
     "name": "stdout",
     "output_type": "stream",
     "text": [
      "New best params with accuracy  = 0.8746693121693122:\n",
      "{'k_f': 40, 'accuracy': 0.8746693121693122, 'n_e': 76, 'm_d': 31}\n"
     ]
    },
    {
     "name": "stderr",
     "output_type": "stream",
     "text": [
      " 51%|█████     | 274/540 [03:47<03:46,  1.17it/s]"
     ]
    },
    {
     "name": "stdout",
     "output_type": "stream",
     "text": [
      "New best params with accuracy  = 0.875:\n",
      "{'k_f': 40, 'accuracy': 0.875, 'n_e': 76, 'm_d': 33}\n"
     ]
    },
    {
     "name": "stderr",
     "output_type": "stream",
     "text": [
      " 51%|█████▏    | 278/540 [03:50<03:39,  1.19it/s]"
     ]
    },
    {
     "name": "stdout",
     "output_type": "stream",
     "text": [
      "New best params with accuracy  = 0.8763227513227513:\n",
      "{'k_f': 40, 'accuracy': 0.8763227513227513, 'n_e': 77, 'm_d': 31}\n"
     ]
    },
    {
     "name": "stderr",
     "output_type": "stream",
     "text": [
      " 55%|█████▌    | 298/540 [04:07<03:28,  1.16it/s]"
     ]
    },
    {
     "name": "stdout",
     "output_type": "stream",
     "text": [
      "New best params with accuracy  = 0.8773148148148148:\n",
      "{'k_f': 40, 'accuracy': 0.8773148148148148, 'n_e': 80, 'm_d': 33}\n"
     ]
    },
    {
     "name": "stderr",
     "output_type": "stream",
     "text": [
      "100%|██████████| 540/540 [07:55<00:00,  1.13it/s]\n"
     ]
    }
   ],
   "source": [
    "k_features = [k for k in range(35, 45)]\n",
    "n_estimators = [76,77,78,79,80,81,82,83,84]\n",
    "max_depth = [30,31,32,33,34,35]\n",
    "\n",
    "best_params_bis = {'k_f': 0, 'accuracy': 0, 'n_e': 0, 'm_d': 0}\n",
    "\n",
    "\n",
    "cartesian_product = list(itertools.product(k_features, n_estimators, max_depth))\n",
    "\n",
    "\n",
    "for params in tqdm(cartesian_product):\n",
    "    k, n_e, m_d = params\n",
    "    selector = SelectKBest(chi2, k=k)\n",
    "    z = selector.fit_transform(data, cover_type)\n",
    "    data_filtered = data[data.columns[selector.get_support()]]\n",
    "\n",
    "    # Split the data into training/testing sets\n",
    "    X_train, X_test, y_train, y_test = train_test_split(data_filtered, cover_type, test_size=0.2, random_state=42)\n",
    "    clf = RandomForestClassifier(n_estimators=n_e, max_depth=m_d, random_state=0)\n",
    "    clf.fit(X_train, y_train)\n",
    "    y_pred = clf.predict(X_test)\n",
    "    accuracy = accuracy_score(y_test, y_pred)\n",
    "    if accuracy > best_params_bis['accuracy']:\n",
    "        best_params_bis['k_f'] = k\n",
    "        best_params_bis['accuracy'] = accuracy\n",
    "        best_params_bis['n_e'] = n_e\n",
    "        best_params_bis['m_d'] = m_d\n",
    "        print(\"New best params with accuracy  = \"+ str(accuracy) +\":\")\n",
    "        print(best_params_bis)\n"
   ]
  },
  {
   "cell_type": "code",
   "execution_count": 16,
   "metadata": {},
   "outputs": [],
   "source": [
    "### Make prediction on test set\n",
    "data_test = pd.read_csv('data/test-full.csv')\n",
    "id_test = data_test['Id']\n",
    "data_test = data_test.drop('Id', axis=1)\n",
    "\n",
    "selector = SelectKBest(chi2, k=best_params_bis['k_f'])\n",
    "z = selector.fit_transform(data, cover_type)\n",
    "data_filtered = data[data.columns[selector.get_support()]]\n",
    "data_test_filtered = data_test[data_test.columns[selector.get_support()]]\n",
    "\n",
    "clf = RandomForestClassifier(n_estimators=best_params_bis['n_e'], max_depth=best_params_bis['m_d'], random_state=0)\n",
    "clf.fit(data_filtered, cover_type)\n",
    "y_pred = clf.predict(data_test_filtered)\n",
    "\n",
    "\n",
    "generating_submission_csv(y_pred, \"random_forest_kf_\"+str(best_params_bis['k_f'])+\"_ne_\"+str(best_params_bis['n_e'])+\"_md_\"+str(best_params_bis['m_d'])+\"_accuracy_\"+str(best_params_bis['accuracy'])+\"_test_full\")"
   ]
  }
 ],
 "metadata": {
  "kernelspec": {
   "display_name": "Python 3",
   "language": "python",
   "name": "python3"
  },
  "language_info": {
   "codemirror_mode": {
    "name": "ipython",
    "version": 3
   },
   "file_extension": ".py",
   "mimetype": "text/x-python",
   "name": "python",
   "nbconvert_exporter": "python",
   "pygments_lexer": "ipython3",
   "version": "3.10.7"
  }
 },
 "nbformat": 4,
 "nbformat_minor": 2
}
