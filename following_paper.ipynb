{
 "cells": [
  {
   "cell_type": "code",
   "execution_count": 31,
   "metadata": {},
   "outputs": [],
   "source": [
    "##Import area\n",
    "import pandas as pd\n",
    "import matplotlib.pyplot as plt\n",
    "from sklearn.decomposition import PCA\n",
    "import numpy as np\n",
    "from sklearn.feature_selection import SelectKBest\n",
    "from sklearn.feature_selection import chi2\n",
    "\n"
   ]
  },
  {
   "cell_type": "code",
   "execution_count": 32,
   "metadata": {},
   "outputs": [],
   "source": [
    "def generating_submission_csv(prediction, name=\"\"):\n",
    "    data = {'Id': [k+1 for k in range(len(prediction))], 'Cover_type': prediction}\n",
    "\n",
    "    # Créez un DataFrame Pandas à partir du dictionnaire\n",
    "    predictions_df = pd.DataFrame(data)\n",
    "\n",
    "    # Enregistrez le DataFrame dans un fichier CSV\n",
    "    predictions_df.to_csv('predictions_'+name+'.csv', index=False)"
   ]
  },
  {
   "cell_type": "code",
   "execution_count": 33,
   "metadata": {},
   "outputs": [
    {
     "name": "stdout",
     "output_type": "stream",
     "text": [
      "   Elevation  Aspect  Slope  Horizontal_Distance_To_Hydrology  \\\n",
      "0       2881     130     22                               210   \n",
      "1       3005     351     14                               242   \n",
      "2       3226      63     14                               618   \n",
      "3       3298     317      8                               661   \n",
      "4       3080      35      6                               175   \n",
      "\n",
      "   Vertical_Distance_To_Hydrology  Horizontal_Distance_To_Roadways  \\\n",
      "0                              54                             1020   \n",
      "1                             -16                             1371   \n",
      "2                               2                             1092   \n",
      "3                              60                              752   \n",
      "4                              26                             3705   \n",
      "\n",
      "   Hillshade_9am  Hillshade_Noon  Hillshade_3pm  \\\n",
      "0            250             221             88   \n",
      "1            194             215            159   \n",
      "2            232             210            107   \n",
      "3            198             233            174   \n",
      "4            219             227            144   \n",
      "\n",
      "   Horizontal_Distance_To_Fire_Points  ...  Soil_Type31  Soil_Type32  \\\n",
      "0                                 342  ...            0            0   \n",
      "1                                 842  ...            0            0   \n",
      "2                                2018  ...            0            0   \n",
      "3                                1248  ...            0            0   \n",
      "4                                2673  ...            0            0   \n",
      "\n",
      "   Soil_Type33  Soil_Type34  Soil_Type35  Soil_Type36  Soil_Type37  \\\n",
      "0            0            0            0            0            0   \n",
      "1            0            0            0            0            0   \n",
      "2            0            0            0            0            0   \n",
      "3            0            0            0            0            0   \n",
      "4            0            0            0            0            0   \n",
      "\n",
      "   Soil_Type38  Soil_Type39  Soil_Type40  \n",
      "0            0            0            0  \n",
      "1            0            0            0  \n",
      "2            0            0            0  \n",
      "3            0            0            0  \n",
      "4            0            0            0  \n",
      "\n",
      "[5 rows x 54 columns]\n"
     ]
    }
   ],
   "source": [
    "# Charger les données depuis un fichier CSV\n",
    "data = pd.read_csv('data/train.csv')\n",
    "id = data['Id']\n",
    "data = data.drop('Id', axis=1)\n",
    "cover_type = data['Cover_Type']\n",
    "data = data.drop('Cover_Type', axis=1)\n",
    "\n",
    "print(data.head())"
   ]
  },
  {
   "cell_type": "code",
   "execution_count": 23,
   "metadata": {},
   "outputs": [
    {
     "data": {
      "image/png": "[encoded data removed]",
      "text/plain": [
       "<Figure size 640x480 with 1 Axes>"
      ]
     },
     "metadata": {},
     "output_type": "display_data"
    }
   ],
   "source": [
    "cover_type.value_counts().plot(kind='bar', color=['red', 'blue', 'green', 'yellow', 'orange', 'purple', 'brown'])\n",
    "plt.ylabel('Number of instances')\n",
    "plt.xlabel('Cover type')\n",
    "plt.title('Cover type counts')\n",
    "plt.show()"
   ]
  },
  {
   "cell_type": "markdown",
   "metadata": {},
   "source": [
    "Columns with numerical data are Elevation,Aspect,Slope,Horizontal_Distance_To_Hydrology,Vertical_Distance_To_Hydrology,Horizontal_Distance_To_Roadways,Hillshade_9am,Hillshade_Noon,Hillshade_3pm,Horizontal_Distance_To_Fire_Points"
   ]
  },
  {
   "cell_type": "code",
   "execution_count": 24,
   "metadata": {},
   "outputs": [
    {
     "name": "stdout",
     "output_type": "stream",
     "text": [
      "   Elevation    Aspect  Slope  Horizontal_Distance_To_Hydrology  \\\n",
      "0   0.508870  0.361111   0.44                          0.152616   \n",
      "1   0.571718  0.975000   0.28                          0.175872   \n",
      "2   0.683730  0.175000   0.28                          0.449128   \n",
      "3   0.720223  0.880556   0.16                          0.480378   \n",
      "4   0.609731  0.097222   0.12                          0.127180   \n",
      "\n",
      "   Vertical_Distance_To_Hydrology  Horizontal_Distance_To_Roadways  \\\n",
      "0                        0.268085                         0.149934   \n",
      "1                        0.168794                         0.201529   \n",
      "2                        0.194326                         0.160517   \n",
      "3                        0.276596                         0.110539   \n",
      "4                        0.228369                         0.544613   \n",
      "\n",
      "   Hillshade_9am  Hillshade_Noon  Hillshade_3pm  \\\n",
      "0       0.980198        0.787097       0.350598   \n",
      "1       0.702970        0.748387       0.633466   \n",
      "2       0.891089        0.716129       0.426295   \n",
      "3       0.722772        0.864516       0.693227   \n",
      "4       0.826733        0.825806       0.573705   \n",
      "\n",
      "   Horizontal_Distance_To_Fire_Points  ...  Soil_Type31  Soil_Type32  \\\n",
      "0                            0.048203  ...            0            0   \n",
      "1                            0.118675  ...            0            0   \n",
      "2                            0.284426  ...            0            0   \n",
      "3                            0.175899  ...            0            0   \n",
      "4                            0.376744  ...            0            0   \n",
      "\n",
      "   Soil_Type33  Soil_Type34  Soil_Type35  Soil_Type36  Soil_Type37  \\\n",
      "0            0            0            0            0            0   \n",
      "1            0            0            0            0            0   \n",
      "2            0            0            0            0            0   \n",
      "3            0            0            0            0            0   \n",
      "4            0            0            0            0            0   \n",
      "\n",
      "   Soil_Type38  Soil_Type39  Soil_Type40  \n",
      "0            0            0            0  \n",
      "1            0            0            0  \n",
      "2            0            0            0  \n",
      "3            0            0            0  \n",
      "4            0            0            0  \n",
      "\n",
      "[5 rows x 54 columns]\n"
     ]
    }
   ],
   "source": [
    "raw_col = ['Elevation', 'Aspect', 'Slope', 'Horizontal_Distance_To_Hydrology', 'Vertical_Distance_To_Hydrology', 'Horizontal_Distance_To_Roadways', 'Hillshade_9am', 'Hillshade_Noon', 'Hillshade_3pm', 'Horizontal_Distance_To_Fire_Points']\n",
    "##Normalisation between 0 and 1\n",
    "for col in raw_col:\n",
    "    data[col] = (data[col] - data[col].min()) / (data[col].max() - data[col].min())\n",
    "\n",
    "print(data.head())\n"
   ]
  },
  {
   "cell_type": "code",
   "execution_count": 29,
   "metadata": {},
   "outputs": [
    {
     "name": "stdout",
     "output_type": "stream",
     "text": [
      "Selected 25 features :\n",
      "Index(['Elevation', 'Horizontal_Distance_To_Roadways', 'Wilderness_Area1',\n",
      "       'Wilderness_Area2', 'Wilderness_Area3', 'Wilderness_Area4',\n",
      "       'Soil_Type1', 'Soil_Type2', 'Soil_Type3', 'Soil_Type4', 'Soil_Type6',\n",
      "       'Soil_Type10', 'Soil_Type12', 'Soil_Type13', 'Soil_Type14',\n",
      "       'Soil_Type17', 'Soil_Type22', 'Soil_Type23', 'Soil_Type29',\n",
      "       'Soil_Type30', 'Soil_Type32', 'Soil_Type35', 'Soil_Type38',\n",
      "       'Soil_Type39', 'Soil_Type40'],\n",
      "      dtype='object')\n"
     ]
    }
   ],
   "source": [
    "k = 25\n",
    "selector = SelectKBest(chi2, k=k)\n",
    "z = selector.fit_transform(data, cover_type)\n",
    "filter = selector.get_support()\n",
    "\n",
    "print(\"Selected \"+str(k)+\" features :\")\n",
    "print(data.columns[filter])"
   ]
  },
  {
   "cell_type": "code",
   "execution_count": 40,
   "metadata": {},
   "outputs": [
    {
     "name": "stderr",
     "output_type": "stream",
     "text": [
      "  0%|          | 0/267300 [00:00<?, ?it/s]\n"
     ]
    },
    {
     "ename": "ValueError",
     "evalue": "Input X must be non-negative.",
     "output_type": "error",
     "traceback": [
      "\u001b[0;31m---------------------------------------------------------------------------\u001b[0m",
      "\u001b[0;31mValueError\u001b[0m                                Traceback (most recent call last)",
      "Cell \u001b[0;32mIn[40], line 20\u001b[0m\n\u001b[1;32m     18\u001b[0m k, n_e, m_d \u001b[38;5;241m=\u001b[39m params\n\u001b[1;32m     19\u001b[0m selector \u001b[38;5;241m=\u001b[39m SelectKBest(chi2, k\u001b[38;5;241m=\u001b[39mk)\n\u001b[0;32m---> 20\u001b[0m z \u001b[38;5;241m=\u001b[39m \u001b[43mselector\u001b[49m\u001b[38;5;241;43m.\u001b[39;49m\u001b[43mfit\u001b[49m\u001b[43m(\u001b[49m\u001b[43mdata\u001b[49m\u001b[43m,\u001b[49m\u001b[43m \u001b[49m\u001b[43mcover_type\u001b[49m\u001b[43m)\u001b[49m\n\u001b[1;32m     21\u001b[0m data_filtered \u001b[38;5;241m=\u001b[39m data[data\u001b[38;5;241m.\u001b[39mcolumns[\u001b[38;5;28mfilter\u001b[39m]]\n\u001b[1;32m     23\u001b[0m \u001b[38;5;66;03m# Split the data into training/testing sets\u001b[39;00m\n",
      "File \u001b[0;32m/Library/Frameworks/Python.framework/Versions/3.10/lib/python3.10/site-packages/sklearn/feature_selection/_univariate_selection.py:353\u001b[0m, in \u001b[0;36m_BaseFilter.fit\u001b[0;34m(self, X, y)\u001b[0m\n\u001b[1;32m    348\u001b[0m     \u001b[38;5;28;01mraise\u001b[39;00m \u001b[38;5;167;01mTypeError\u001b[39;00m(\u001b[38;5;124m\"\u001b[39m\u001b[38;5;124mThe score function should be a callable, \u001b[39m\u001b[38;5;132;01m%s\u001b[39;00m\u001b[38;5;124m (\u001b[39m\u001b[38;5;132;01m%s\u001b[39;00m\u001b[38;5;124m) \u001b[39m\u001b[38;5;124m\"\u001b[39m\n\u001b[1;32m    349\u001b[0m                     \u001b[38;5;124m\"\u001b[39m\u001b[38;5;124mwas passed.\u001b[39m\u001b[38;5;124m\"\u001b[39m\n\u001b[1;32m    350\u001b[0m                     \u001b[38;5;241m%\u001b[39m (\u001b[38;5;28mself\u001b[39m\u001b[38;5;241m.\u001b[39mscore_func, \u001b[38;5;28mtype\u001b[39m(\u001b[38;5;28mself\u001b[39m\u001b[38;5;241m.\u001b[39mscore_func)))\n\u001b[1;32m    352\u001b[0m \u001b[38;5;28mself\u001b[39m\u001b[38;5;241m.\u001b[39m_check_params(X, y)\n\u001b[0;32m--> 353\u001b[0m score_func_ret \u001b[38;5;241m=\u001b[39m \u001b[38;5;28;43mself\u001b[39;49m\u001b[38;5;241;43m.\u001b[39;49m\u001b[43mscore_func\u001b[49m\u001b[43m(\u001b[49m\u001b[43mX\u001b[49m\u001b[43m,\u001b[49m\u001b[43m \u001b[49m\u001b[43my\u001b[49m\u001b[43m)\u001b[49m\n\u001b[1;32m    354\u001b[0m \u001b[38;5;28;01mif\u001b[39;00m \u001b[38;5;28misinstance\u001b[39m(score_func_ret, (\u001b[38;5;28mlist\u001b[39m, \u001b[38;5;28mtuple\u001b[39m)):\n\u001b[1;32m    355\u001b[0m     \u001b[38;5;28mself\u001b[39m\u001b[38;5;241m.\u001b[39mscores_, \u001b[38;5;28mself\u001b[39m\u001b[38;5;241m.\u001b[39mpvalues_ \u001b[38;5;241m=\u001b[39m score_func_ret\n",
      "File \u001b[0;32m/Library/Frameworks/Python.framework/Versions/3.10/lib/python3.10/site-packages/sklearn/feature_selection/_univariate_selection.py:218\u001b[0m, in \u001b[0;36mchi2\u001b[0;34m(X, y)\u001b[0m\n\u001b[1;32m    216\u001b[0m X \u001b[38;5;241m=\u001b[39m check_array(X, accept_sparse\u001b[38;5;241m=\u001b[39m\u001b[38;5;124m'\u001b[39m\u001b[38;5;124mcsr\u001b[39m\u001b[38;5;124m'\u001b[39m)\n\u001b[1;32m    217\u001b[0m \u001b[38;5;28;01mif\u001b[39;00m np\u001b[38;5;241m.\u001b[39many((X\u001b[38;5;241m.\u001b[39mdata \u001b[38;5;28;01mif\u001b[39;00m issparse(X) \u001b[38;5;28;01melse\u001b[39;00m X) \u001b[38;5;241m<\u001b[39m \u001b[38;5;241m0\u001b[39m):\n\u001b[0;32m--> 218\u001b[0m     \u001b[38;5;28;01mraise\u001b[39;00m \u001b[38;5;167;01mValueError\u001b[39;00m(\u001b[38;5;124m\"\u001b[39m\u001b[38;5;124mInput X must be non-negative.\u001b[39m\u001b[38;5;124m\"\u001b[39m)\n\u001b[1;32m    220\u001b[0m Y \u001b[38;5;241m=\u001b[39m LabelBinarizer()\u001b[38;5;241m.\u001b[39mfit_transform(y)\n\u001b[1;32m    221\u001b[0m \u001b[38;5;28;01mif\u001b[39;00m Y\u001b[38;5;241m.\u001b[39mshape[\u001b[38;5;241m1\u001b[39m] \u001b[38;5;241m==\u001b[39m \u001b[38;5;241m1\u001b[39m:\n",
      "\u001b[0;31mValueError\u001b[0m: Input X must be non-negative."
     ]
    }
   ],
   "source": [
    "from sklearn.ensemble import RandomForestClassifier\n",
    "from sklearn.feature_selection import SelectKBest\n",
    "from sklearn.metrics import accuracy_score\n",
    "import itertools\n",
    "from sklearn.model_selection import train_test_split\n",
    "from tqdm import tqdm\n",
    "\n",
    "k_features = [k for k in range(1, 55)]\n",
    "n_estimators = [k for k in range(10, 1000, 20)]\n",
    "max_depth = [k for k in range(1, 100, 1)]\n",
    "\n",
    "best_params = {'k_f': 0, 'accuracy': 0, 'n_e': 0, 'm_d': 0}\n",
    "\n",
    "cartesian_product = list(itertools.product(k_features, n_estimators, max_depth))\n",
    "\n",
    "\n",
    "for params in tqdm(cartesian_product):\n",
    "    k, n_e, m_d = params\n",
    "    selector = SelectKBest(chi2, k=k)\n",
    "    z = selector.fit(data, cover_type)\n",
    "    data_filtered = data[data.columns[filter]]\n",
    "\n",
    "    # Split the data into training/testing sets\n",
    "    X_train, X_test, y_train, y_test = train_test_split(data_filtered, cover_type, test_size=0.2, random_state=42)\n",
    "    clf = RandomForestClassifier(n_estimators=n_e, max_depth=m_d, random_state=0)\n",
    "    clf.fit(X_train, y_train)\n",
    "    y_pred = clf.predict(X_test)\n",
    "    accuracy = accuracy_score(y_test, y_pred)\n",
    "    if accuracy > best_params['accuracy']:\n",
    "        best_params['k_f'] = k\n",
    "        best_params['accuracy'] = accuracy\n",
    "        best_params['n_e'] = n_e\n",
    "        best_params['m_d'] = m_d\n",
    "        print(\"New best params with accuracy  = \"+ str(accuracy) +\":\")\n",
    "        print(best_params)\n"
   ]
  }
 ],
 "metadata": {
  "kernelspec": {
   "display_name": "Python 3",
   "language": "python",
   "name": "python3"
  },
  "language_info": {
   "codemirror_mode": {
    "name": "ipython",
    "version": 3
   },
   "file_extension": ".py",
   "mimetype": "text/x-python",
   "name": "python",
   "nbconvert_exporter": "python",
   "pygments_lexer": "ipython3",
   "version": "3.10.7"
  }
 },
 "nbformat": 4,
 "nbformat_minor": 2
}
