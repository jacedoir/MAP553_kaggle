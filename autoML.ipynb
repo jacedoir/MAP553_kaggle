{
 "cells": [
  {
   "cell_type": "code",
   "execution_count": 1,
   "metadata": {},
   "outputs": [],
   "source": [
    "import tpot as tp\n",
    "import pandas as pd\n",
    "from sklearn.model_selection import train_test_split\n",
    "from sklearn.metrics import accuracy_score\n",
    "\n",
    "\n",
    "# Load the dataset from CSV file\n",
    "file_path = 'data/train.csv'  # Update the file path if needed\n",
    "df = pd.read_csv(file_path)\n",
    "\n",
    "# Assuming your target variable is named 'target'\n",
    "X = df.drop('Cover_Type', axis=1)\n",
    "y = df['Cover_Type']"
   ]
  },
  {
   "cell_type": "code",
   "execution_count": 2,
   "metadata": {},
   "outputs": [],
   "source": [
    "X_train, X_test, y_train, y_test = train_test_split(X, y, test_size=0.1, random_state=42)"
   ]
  },
  {
   "cell_type": "code",
   "execution_count": 3,
   "metadata": {},
   "outputs": [
    {
     "data": {
      "application/vnd.jupyter.widget-view+json": {
       "model_id": "be8c2ae9cc0644b0b43264c897db5a61",
       "version_major": 2,
       "version_minor": 0
      },
      "text/plain": [
       "Optimization Progress:   0%|          | 0/10100 [00:00<?, ?pipeline/s]"
      ]
     },
     "metadata": {},
     "output_type": "display_data"
    },
    {
     "name": "stdout",
     "output_type": "stream",
     "text": [
      "\n",
      "Generation 1 - Current best internal CV score: 0.826940569727223\n",
      "\n",
      "Generation 2 - Current best internal CV score: 0.826940569727223\n",
      "\n",
      "Generation 3 - Current best internal CV score: 0.826940569727223\n",
      "\n",
      "Generation 4 - Current best internal CV score: 0.826940569727223\n",
      "\n",
      "Generation 5 - Current best internal CV score: 0.826940569727223\n",
      "\n",
      "Generation 6 - Current best internal CV score: 0.826940569727223\n",
      "\n",
      "Generation 7 - Current best internal CV score: 0.8270875745048782\n",
      "\n",
      "Generation 8 - Current best internal CV score: 0.8431799531280504\n",
      "\n",
      "Generation 9 - Current best internal CV score: 0.8431799531280504\n",
      "\n",
      "Generation 10 - Current best internal CV score: 0.8431799531280504\n",
      "\n",
      "Generation 11 - Current best internal CV score: 0.8435474380691067\n",
      "\n",
      "Generation 12 - Current best internal CV score: 0.8456053969439532\n",
      "\n",
      "Generation 13 - Current best internal CV score: 0.8577307528108182\n",
      "\n",
      "Generation 14 - Current best internal CV score: 0.8577307528108182\n",
      "\n",
      "Generation 15 - Current best internal CV score: 0.8582455935695942\n",
      "\n",
      "Generation 16 - Current best internal CV score: 0.8626546567759779\n",
      "\n",
      "Generation 17 - Current best internal CV score: 0.8626546567759779\n",
      "\n",
      "Generation 18 - Current best internal CV score: 0.8689738909901786\n",
      "\n",
      "Generation 19 - Current best internal CV score: 0.8689738909901786\n",
      "\n",
      "Generation 20 - Current best internal CV score: 0.8722809314227031\n",
      "\n",
      "Generation 21 - Current best internal CV score: 0.8722809314227031\n",
      "\n",
      "Generation 22 - Current best internal CV score: 0.8722809314227031\n",
      "\n",
      "Generation 23 - Current best internal CV score: 0.8722809314227031\n",
      "\n",
      "Generation 24 - Current best internal CV score: 0.8722809314227031\n",
      "\n",
      "Generation 25 - Current best internal CV score: 0.8722809314227031\n",
      "\n",
      "Generation 26 - Current best internal CV score: 0.8722809314227031\n",
      "\n",
      "Generation 27 - Current best internal CV score: 0.8722809314227031\n",
      "\n",
      "Generation 28 - Current best internal CV score: 0.8722809314227031\n",
      "\n",
      "Generation 29 - Current best internal CV score: 0.8722809314227031\n",
      "\n",
      "Generation 30 - Current best internal CV score: 0.8722809314227031\n",
      "\n",
      "Generation 31 - Current best internal CV score: 0.8722809314227031\n",
      "\n",
      "Generation 32 - Current best internal CV score: 0.8722809314227031\n",
      "\n",
      "Generation 33 - Current best internal CV score: 0.8737511142146653\n",
      "\n",
      "Generation 34 - Current best internal CV score: 0.8737511142146653\n",
      "\n",
      "Generation 35 - Current best internal CV score: 0.8737511142146653\n",
      "\n",
      "Generation 36 - Current best internal CV score: 0.8737511142146653\n",
      "\n",
      "Generation 37 - Current best internal CV score: 0.8740452587853852\n",
      "\n",
      "Generation 38 - Current best internal CV score: 0.8740452587853852\n",
      "\n",
      "Generation 39 - Current best internal CV score: 0.8740452587853852\n",
      "\n",
      "Generation 40 - Current best internal CV score: 0.8740452587853852\n",
      "\n",
      "Generation 41 - Current best internal CV score: 0.8740452587853852\n",
      "\n",
      "Generation 42 - Current best internal CV score: 0.8740452587853852\n",
      "\n",
      "Generation 43 - Current best internal CV score: 0.8740452587853852\n",
      "\n",
      "Generation 44 - Current best internal CV score: 0.8740452587853852\n",
      "\n",
      "Generation 45 - Current best internal CV score: 0.8740452587853852\n",
      "\n",
      "Generation 46 - Current best internal CV score: 0.8742653609056401\n",
      "\n",
      "Generation 47 - Current best internal CV score: 0.8742653609056401\n",
      "\n",
      "Generation 48 - Current best internal CV score: 0.8742653609056401\n",
      "\n",
      "Generation 49 - Current best internal CV score: 0.8742653609056401\n",
      "\n",
      "Generation 50 - Current best internal CV score: 0.8742653609056401\n",
      "\n",
      "Generation 51 - Current best internal CV score: 0.8742653609056401\n",
      "\n",
      "Generation 52 - Current best internal CV score: 0.8742653609056401\n",
      "\n",
      "Generation 53 - Current best internal CV score: 0.8742653609056401\n",
      "\n",
      "Generation 54 - Current best internal CV score: 0.8742653609056401\n",
      "\n",
      "Generation 55 - Current best internal CV score: 0.8742653609056401\n",
      "\n",
      "Generation 56 - Current best internal CV score: 0.8780864860106485\n",
      "\n",
      "Generation 57 - Current best internal CV score: 0.8780864860106485\n",
      "\n",
      "Generation 58 - Current best internal CV score: 0.8780864860106485\n",
      "\n",
      "Generation 59 - Current best internal CV score: 0.8780864860106485\n",
      "\n",
      "Generation 60 - Current best internal CV score: 0.8780864860106485\n",
      "\n",
      "Generation 61 - Current best internal CV score: 0.8780864860106485\n",
      "\n",
      "Generation 62 - Current best internal CV score: 0.8780864860106485\n",
      "\n",
      "Generation 63 - Current best internal CV score: 0.8780864860106485\n",
      "\n",
      "Generation 64 - Current best internal CV score: 0.878380468562877\n",
      "\n",
      "Generation 65 - Current best internal CV score: 0.878380468562877\n",
      "\n",
      "Generation 66 - Current best internal CV score: 0.878380468562877\n",
      "\n",
      "Generation 67 - Current best internal CV score: 0.878380468562877\n",
      "\n",
      "Generation 68 - Current best internal CV score: 0.878380468562877\n",
      "\n",
      "Generation 69 - Current best internal CV score: 0.878380468562877\n",
      "\n",
      "Generation 70 - Current best internal CV score: 0.878380468562877\n",
      "\n",
      "Generation 71 - Current best internal CV score: 0.878380468562877\n",
      "\n",
      "Generation 72 - Current best internal CV score: 0.878380468562877\n",
      "\n",
      "Generation 73 - Current best internal CV score: 0.8847000268140602\n",
      "\n",
      "Generation 74 - Current best internal CV score: 0.8847000268140602\n",
      "\n",
      "Generation 75 - Current best internal CV score: 0.8847000268140602\n",
      "\n",
      "Generation 76 - Current best internal CV score: 0.8847000268140602\n",
      "\n",
      "Generation 77 - Current best internal CV score: 0.8847000268140602\n",
      "\n",
      "Generation 78 - Current best internal CV score: 0.8847000268140602\n",
      "\n",
      "Generation 79 - Current best internal CV score: 0.8847000268140602\n",
      "\n",
      "Generation 80 - Current best internal CV score: 0.8847000268140602\n",
      "\n",
      "Generation 81 - Current best internal CV score: 0.8847000268140602\n",
      "\n",
      "Generation 82 - Current best internal CV score: 0.8847000268140602\n",
      "\n",
      "Generation 83 - Current best internal CV score: 0.8847000808202241\n",
      "\n",
      "Generation 84 - Current best internal CV score: 0.8858024546341474\n",
      "\n",
      "Generation 85 - Current best internal CV score: 0.8858024546341474\n",
      "\n",
      "Generation 86 - Current best internal CV score: 0.8858024546341474\n",
      "\n",
      "Generation 87 - Current best internal CV score: 0.8858024546341474\n",
      "\n",
      "Generation 88 - Current best internal CV score: 0.8858024546341474\n",
      "\n",
      "Generation 89 - Current best internal CV score: 0.8858024546341474\n",
      "\n",
      "Generation 90 - Current best internal CV score: 0.8858024546341474\n",
      "\n",
      "Generation 91 - Current best internal CV score: 0.8858024546341474\n",
      "\n",
      "Generation 92 - Current best internal CV score: 0.8858024546341474\n",
      "\n",
      "Generation 93 - Current best internal CV score: 0.8858024546341474\n",
      "\n",
      "Generation 94 - Current best internal CV score: 0.8858024546341474\n",
      "\n",
      "Generation 95 - Current best internal CV score: 0.8858024546341474\n",
      "\n",
      "Generation 96 - Current best internal CV score: 0.8858024546341474\n",
      "\n",
      "Generation 97 - Current best internal CV score: 0.8858024546341474\n",
      "\n",
      "Generation 98 - Current best internal CV score: 0.8858024546341474\n",
      "\n",
      "Generation 99 - Current best internal CV score: 0.8867577426611698\n",
      "\n",
      "Generation 100 - Current best internal CV score: 0.8867577426611698\n",
      "\n",
      "Best pipeline: KNeighborsClassifier(MinMaxScaler(Normalizer(ZeroCount(LogisticRegression(DecisionTreeClassifier(ZeroCount(ZeroCount(input_matrix)), criterion=gini, max_depth=2, min_samples_leaf=2, min_samples_split=14), C=25.0, dual=False, penalty=l2)), norm=max)), n_neighbors=1, p=1, weights=uniform)\n"
     ]
    },
    {
     "data": {
      "text/html": [
       "<style>#sk-container-id-1 {color: black;}#sk-container-id-1 pre{padding: 0;}#sk-container-id-1 div.sk-toggleable {background-color: white;}#sk-container-id-1 label.sk-toggleable__label {cursor: pointer;display: block;width: 100%;margin-bottom: 0;padding: 0.3em;box-sizing: border-box;text-align: center;}#sk-container-id-1 label.sk-toggleable__label-arrow:before {content: \"▸\";float: left;margin-right: 0.25em;color: #696969;}#sk-container-id-1 label.sk-toggleable__label-arrow:hover:before {color: black;}#sk-container-id-1 div.sk-estimator:hover label.sk-toggleable__label-arrow:before {color: black;}#sk-container-id-1 div.sk-toggleable__content {max-height: 0;max-width: 0;overflow: hidden;text-align: left;background-color: #f0f8ff;}#sk-container-id-1 div.sk-toggleable__content pre {margin: 0.2em;color: black;border-radius: 0.25em;background-color: #f0f8ff;}#sk-container-id-1 input.sk-toggleable__control:checked~div.sk-toggleable__content {max-height: 200px;max-width: 100%;overflow: auto;}#sk-container-id-1 input.sk-toggleable__control:checked~label.sk-toggleable__label-arrow:before {content: \"▾\";}#sk-container-id-1 div.sk-estimator input.sk-toggleable__control:checked~label.sk-toggleable__label {background-color: #d4ebff;}#sk-container-id-1 div.sk-label input.sk-toggleable__control:checked~label.sk-toggleable__label {background-color: #d4ebff;}#sk-container-id-1 input.sk-hidden--visually {border: 0;clip: rect(1px 1px 1px 1px);clip: rect(1px, 1px, 1px, 1px);height: 1px;margin: -1px;overflow: hidden;padding: 0;position: absolute;width: 1px;}#sk-container-id-1 div.sk-estimator {font-family: monospace;background-color: #f0f8ff;border: 1px dotted black;border-radius: 0.25em;box-sizing: border-box;margin-bottom: 0.5em;}#sk-container-id-1 div.sk-estimator:hover {background-color: #d4ebff;}#sk-container-id-1 div.sk-parallel-item::after {content: \"\";width: 100%;border-bottom: 1px solid gray;flex-grow: 1;}#sk-container-id-1 div.sk-label:hover label.sk-toggleable__label {background-color: #d4ebff;}#sk-container-id-1 div.sk-serial::before {content: \"\";position: absolute;border-left: 1px solid gray;box-sizing: border-box;top: 0;bottom: 0;left: 50%;z-index: 0;}#sk-container-id-1 div.sk-serial {display: flex;flex-direction: column;align-items: center;background-color: white;padding-right: 0.2em;padding-left: 0.2em;position: relative;}#sk-container-id-1 div.sk-item {position: relative;z-index: 1;}#sk-container-id-1 div.sk-parallel {display: flex;align-items: stretch;justify-content: center;background-color: white;position: relative;}#sk-container-id-1 div.sk-item::before, #sk-container-id-1 div.sk-parallel-item::before {content: \"\";position: absolute;border-left: 1px solid gray;box-sizing: border-box;top: 0;bottom: 0;left: 50%;z-index: -1;}#sk-container-id-1 div.sk-parallel-item {display: flex;flex-direction: column;z-index: 1;position: relative;background-color: white;}#sk-container-id-1 div.sk-parallel-item:first-child::after {align-self: flex-end;width: 50%;}#sk-container-id-1 div.sk-parallel-item:last-child::after {align-self: flex-start;width: 50%;}#sk-container-id-1 div.sk-parallel-item:only-child::after {width: 0;}#sk-container-id-1 div.sk-dashed-wrapped {border: 1px dashed gray;margin: 0 0.4em 0.5em 0.4em;box-sizing: border-box;padding-bottom: 0.4em;background-color: white;}#sk-container-id-1 div.sk-label label {font-family: monospace;font-weight: bold;display: inline-block;line-height: 1.2em;}#sk-container-id-1 div.sk-label-container {text-align: center;}#sk-container-id-1 div.sk-container {/* jupyter's `normalize.less` sets `[hidden] { display: none; }` but bootstrap.min.css set `[hidden] { display: none !important; }` so we also need the `!important` here to be able to override the default hidden behavior on the sphinx rendered scikit-learn.org. See: https://github.com/scikit-learn/scikit-learn/issues/21755 */display: inline-block !important;position: relative;}#sk-container-id-1 div.sk-text-repr-fallback {display: none;}</style><div id=\"sk-container-id-1\" class=\"sk-top-container\"><div class=\"sk-text-repr-fallback\"><pre>TPOTClassifier(config_dict=&#x27;TPOT light&#x27;, n_jobs=-1, scoring=&#x27;accuracy&#x27;,\n",
       "               verbosity=2)</pre><b>In a Jupyter environment, please rerun this cell to show the HTML representation or trust the notebook. <br />On GitHub, the HTML representation is unable to render, please try loading this page with nbviewer.org.</b></div><div class=\"sk-container\" hidden><div class=\"sk-item\"><div class=\"sk-estimator sk-toggleable\"><input class=\"sk-toggleable__control sk-hidden--visually\" id=\"sk-estimator-id-1\" type=\"checkbox\" checked><label for=\"sk-estimator-id-1\" class=\"sk-toggleable__label sk-toggleable__label-arrow\">TPOTClassifier</label><div class=\"sk-toggleable__content\"><pre>TPOTClassifier(config_dict=&#x27;TPOT light&#x27;, n_jobs=-1, scoring=&#x27;accuracy&#x27;,\n",
       "               verbosity=2)</pre></div></div></div></div></div>"
      ],
      "text/plain": [
       "TPOTClassifier(config_dict='TPOT light', n_jobs=-1, scoring='accuracy',\n",
       "               verbosity=2)"
      ]
     },
     "execution_count": 3,
     "metadata": {},
     "output_type": "execute_result"
    }
   ],
   "source": [
    "est = tp.TPOTClassifier(verbosity=2, scoring=\"accuracy\", config_dict='TPOT light', n_jobs=-1)\n",
    "est.fit(X_train,y_train)"
   ]
  },
  {
   "cell_type": "code",
   "execution_count": 4,
   "metadata": {},
   "outputs": [
    {
     "name": "stdout",
     "output_type": "stream",
     "text": [
      "0.8842592592592593\n"
     ]
    }
   ],
   "source": [
    "y_pred = est.predict(X_test)\n",
    "print(accuracy_score(y_test, y_pred))"
   ]
  },
  {
   "cell_type": "code",
   "execution_count": 5,
   "metadata": {},
   "outputs": [],
   "source": [
    "est.export('tpot_splited_pipeline.py')"
   ]
  },
  {
   "cell_type": "code",
   "execution_count": 6,
   "metadata": {},
   "outputs": [
    {
     "data": {
      "application/vnd.jupyter.widget-view+json": {
       "model_id": "6ad28928c02f4d2887b5f7c57468a62c",
       "version_major": 2,
       "version_minor": 0
      },
      "text/plain": [
       "Optimization Progress:   0%|          | 0/10100 [00:00<?, ?pipeline/s]"
      ]
     },
     "metadata": {},
     "output_type": "display_data"
    },
    {
     "name": "stdout",
     "output_type": "stream",
     "text": [
      "\n",
      "Generation 1 - Current best internal CV score: 0.6726072607260726\n",
      "\n",
      "Generation 2 - Current best internal CV score: 0.6739536205276156\n",
      "\n",
      "Generation 3 - Current best internal CV score: 0.707647585950648\n",
      "\n",
      "Generation 4 - Current best internal CV score: 0.707647585950648\n",
      "\n",
      "Generation 5 - Current best internal CV score: 0.707647585950648\n",
      "\n",
      "Generation 6 - Current best internal CV score: 0.707647585950648\n",
      "\n",
      "\n",
      "TPOT closed during evaluation in one generation.\n",
      "WARNING: TPOT may not provide a good pipeline if TPOT is stopped/interrupted in a early generation.\n",
      "\n",
      "\n",
      "TPOT closed prematurely. Will use the current best pipeline.\n",
      "\n",
      "Best pipeline: LogisticRegression(RobustScaler(input_matrix), C=25.0, dual=False, penalty=l2)\n"
     ]
    },
    {
     "data": {
      "text/html": [
       "<style>#sk-container-id-2 {color: black;}#sk-container-id-2 pre{padding: 0;}#sk-container-id-2 div.sk-toggleable {background-color: white;}#sk-container-id-2 label.sk-toggleable__label {cursor: pointer;display: block;width: 100%;margin-bottom: 0;padding: 0.3em;box-sizing: border-box;text-align: center;}#sk-container-id-2 label.sk-toggleable__label-arrow:before {content: \"▸\";float: left;margin-right: 0.25em;color: #696969;}#sk-container-id-2 label.sk-toggleable__label-arrow:hover:before {color: black;}#sk-container-id-2 div.sk-estimator:hover label.sk-toggleable__label-arrow:before {color: black;}#sk-container-id-2 div.sk-toggleable__content {max-height: 0;max-width: 0;overflow: hidden;text-align: left;background-color: #f0f8ff;}#sk-container-id-2 div.sk-toggleable__content pre {margin: 0.2em;color: black;border-radius: 0.25em;background-color: #f0f8ff;}#sk-container-id-2 input.sk-toggleable__control:checked~div.sk-toggleable__content {max-height: 200px;max-width: 100%;overflow: auto;}#sk-container-id-2 input.sk-toggleable__control:checked~label.sk-toggleable__label-arrow:before {content: \"▾\";}#sk-container-id-2 div.sk-estimator input.sk-toggleable__control:checked~label.sk-toggleable__label {background-color: #d4ebff;}#sk-container-id-2 div.sk-label input.sk-toggleable__control:checked~label.sk-toggleable__label {background-color: #d4ebff;}#sk-container-id-2 input.sk-hidden--visually {border: 0;clip: rect(1px 1px 1px 1px);clip: rect(1px, 1px, 1px, 1px);height: 1px;margin: -1px;overflow: hidden;padding: 0;position: absolute;width: 1px;}#sk-container-id-2 div.sk-estimator {font-family: monospace;background-color: #f0f8ff;border: 1px dotted black;border-radius: 0.25em;box-sizing: border-box;margin-bottom: 0.5em;}#sk-container-id-2 div.sk-estimator:hover {background-color: #d4ebff;}#sk-container-id-2 div.sk-parallel-item::after {content: \"\";width: 100%;border-bottom: 1px solid gray;flex-grow: 1;}#sk-container-id-2 div.sk-label:hover label.sk-toggleable__label {background-color: #d4ebff;}#sk-container-id-2 div.sk-serial::before {content: \"\";position: absolute;border-left: 1px solid gray;box-sizing: border-box;top: 0;bottom: 0;left: 50%;z-index: 0;}#sk-container-id-2 div.sk-serial {display: flex;flex-direction: column;align-items: center;background-color: white;padding-right: 0.2em;padding-left: 0.2em;position: relative;}#sk-container-id-2 div.sk-item {position: relative;z-index: 1;}#sk-container-id-2 div.sk-parallel {display: flex;align-items: stretch;justify-content: center;background-color: white;position: relative;}#sk-container-id-2 div.sk-item::before, #sk-container-id-2 div.sk-parallel-item::before {content: \"\";position: absolute;border-left: 1px solid gray;box-sizing: border-box;top: 0;bottom: 0;left: 50%;z-index: -1;}#sk-container-id-2 div.sk-parallel-item {display: flex;flex-direction: column;z-index: 1;position: relative;background-color: white;}#sk-container-id-2 div.sk-parallel-item:first-child::after {align-self: flex-end;width: 50%;}#sk-container-id-2 div.sk-parallel-item:last-child::after {align-self: flex-start;width: 50%;}#sk-container-id-2 div.sk-parallel-item:only-child::after {width: 0;}#sk-container-id-2 div.sk-dashed-wrapped {border: 1px dashed gray;margin: 0 0.4em 0.5em 0.4em;box-sizing: border-box;padding-bottom: 0.4em;background-color: white;}#sk-container-id-2 div.sk-label label {font-family: monospace;font-weight: bold;display: inline-block;line-height: 1.2em;}#sk-container-id-2 div.sk-label-container {text-align: center;}#sk-container-id-2 div.sk-container {/* jupyter's `normalize.less` sets `[hidden] { display: none; }` but bootstrap.min.css set `[hidden] { display: none !important; }` so we also need the `!important` here to be able to override the default hidden behavior on the sphinx rendered scikit-learn.org. See: https://github.com/scikit-learn/scikit-learn/issues/21755 */display: inline-block !important;position: relative;}#sk-container-id-2 div.sk-text-repr-fallback {display: none;}</style><div id=\"sk-container-id-2\" class=\"sk-top-container\"><div class=\"sk-text-repr-fallback\"><pre>TPOTClassifier(config_dict=&#x27;TPOT light&#x27;, n_jobs=-1, scoring=&#x27;accuracy&#x27;,\n",
       "               verbosity=2)</pre><b>In a Jupyter environment, please rerun this cell to show the HTML representation or trust the notebook. <br />On GitHub, the HTML representation is unable to render, please try loading this page with nbviewer.org.</b></div><div class=\"sk-container\" hidden><div class=\"sk-item\"><div class=\"sk-estimator sk-toggleable\"><input class=\"sk-toggleable__control sk-hidden--visually\" id=\"sk-estimator-id-2\" type=\"checkbox\" checked><label for=\"sk-estimator-id-2\" class=\"sk-toggleable__label sk-toggleable__label-arrow\">TPOTClassifier</label><div class=\"sk-toggleable__content\"><pre>TPOTClassifier(config_dict=&#x27;TPOT light&#x27;, n_jobs=-1, scoring=&#x27;accuracy&#x27;,\n",
       "               verbosity=2)</pre></div></div></div></div></div>"
      ],
      "text/plain": [
       "TPOTClassifier(config_dict='TPOT light', n_jobs=-1, scoring='accuracy',\n",
       "               verbosity=2)"
      ]
     },
     "execution_count": 6,
     "metadata": {},
     "output_type": "execute_result"
    }
   ],
   "source": [
    "est.fit(X_test, y_test)"
   ]
  },
  {
   "cell_type": "code",
   "execution_count": null,
   "metadata": {},
   "outputs": [],
   "source": [
    "est.export('tpot_full_pipeline_full_dataset.py')"
   ]
  }
 ],
 "metadata": {
  "kernelspec": {
   "display_name": "Python 3",
   "language": "python",
   "name": "python3"
  },
  "language_info": {
   "codemirror_mode": {
    "name": "ipython",
    "version": 3
   },
   "file_extension": ".py",
   "mimetype": "text/x-python",
   "name": "python",
   "nbconvert_exporter": "python",
   "pygments_lexer": "ipython3",
   "version": "3.11.6"
  }
 },
 "nbformat": 4,
 "nbformat_minor": 2
}
